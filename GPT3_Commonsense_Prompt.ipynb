{
  "nbformat": 4,
  "nbformat_minor": 0,
  "metadata": {
    "colab": {
      "name": "GPT3 and Commonsense Reasoning Prompt.ipynb",
      "provenance": [],
      "authorship_tag": "ABX9TyPmXHeb3rSQeef8uo2Dyz3S",
      "include_colab_link": true
    },
    "kernelspec": {
      "name": "python3",
      "display_name": "Python 3"
    },
    "language_info": {
      "name": "python"
    }
  },
  "cells": [
    {
      "cell_type": "markdown",
      "metadata": {
        "id": "view-in-github",
        "colab_type": "text"
      },
      "source": [
        "<a href=\"https://colab.research.google.com/github/ratthachat/prompt_engineering/blob/main/GPT3_Commonsense_Prompt.ipynb\" target=\"_parent\"><img src=\"https://colab.research.google.com/assets/colab-badge.svg\" alt=\"Open In Colab\"/></a>"
      ]
    },
    {
      "cell_type": "markdown",
      "metadata": {
        "id": "RRRCIAHWbF7e"
      },
      "source": [
        "# Prompt used in GPT3 and Commonsense Reasoning\n",
        "\n",
        "This notebook is a supplementary to [GPT3 and Commonsense Reasoning](https://agi.miraheze.org/wiki/GPT3_and_Commonsense_Reasoning) article.\n",
        "\n",
        "The readers who have GPT-3 access can use the prompt generated below directly in OpenAI Playground.\n",
        "\n",
        "## TL;DR\n",
        "To generate the main article prompt, execute \\\n",
        "\n",
        "```prompt = main_2shots + main_stories[i] + main_end_part``` \n",
        "\n",
        "where `i` is the index of the story you want to test\n",
        "\n",
        "Similarly in the appendix prompt, execute \n",
        "\n",
        "`prompt = appendix_3shots + appendix_stories[i] + appendix_end_part` \n",
        "\n",
        "\n",
        "# Main Article Prompt\n",
        "\n",
        "In the main article linked above, we test the ability of GPT-3 when reading a short story on 8 basis commonsense reasoning dimensions. The following 2-shots prompt, containing comprehensive non-trivial reasoning examples on two stories, is provided:"
      ]
    },
    {
      "cell_type": "code",
      "metadata": {
        "id": "h0NJOBgTalKW"
      },
      "source": [
        "main_2shots = \"\"\"\n",
        "Reasoning on Common Sense Knowledge / Guessing the Story\n",
        "\n",
        "===\n",
        "Story 1: Alice and Elsa were running toward the finish line. However, as Alice somehow fell down to the ground, Elsa turned her back and went to help Alice. A teacher and friends also went to see what happen.\n",
        "\n",
        "Analysis:\n",
        "1) Notable characters, their roles and status\n",
        "Elsa and Alice are likely students and friends because there are teacher and friends in the context. By their names, they both should be girls. When they competed a race, they were competitors and runners. The teacher was probably their referee.\n",
        "\n",
        "2) Notable believes, feelings and motivations of characters before, during and after the story\n",
        "Before the story, both Elsa and Alice wanted to win the race and they should feel a bit excitement. In the story, when something happen to Alice, Elsa belived that Alice was injured. Elsa, and everybody else, felt care toward Alice. Then Elsa wanted to help Alice instead of going to win.\n",
        "\n",
        "3) Notable possessions of characters before, during and after the story\n",
        "Throughout the story, each runner should have a pair of running shoes, a running uniform. The teacher might have a whistle and perhaps a clock watch.\n",
        "\n",
        "4) Basic usages and general knowledge on some notable possessions\n",
        "People can use a pair of running shoes for running or just wear them casually.\n",
        "A pair of running shoes typically costs $10 to $100. Famous and expensive brands include Nike, Adidas, Asics and New Balance.\n",
        "\n",
        "5) Probable locations, positions and daytime of characters before, during and after the story\n",
        "They probably stayed at a sport stadium, on a running race at their school throughout the story. It should be at day in the story since the class is rarely at night. Before the race started, Elsa and Alice should stay at the same starting point while the teacher and friends stay near the race. Shortly after the story, Elsa, Alice and everybody should stay closely to investigate Alice's condition.\n",
        "\n",
        "6) Guess story genre, and general information about location and time period\n",
        "The story was quite ordinary, so it could be non-fantasy or realistic fiction, maybe a bit drama. Since it looks peaceful, it might locate in no-war country. The event might took place after 1900s where the sport has been popular, and more probable after 1950s where WW-II already ended.\n",
        "\n",
        "7) Probable events before and after the story\n",
        "Before the story, it may be the time for PE class for Elsa and Alice, so they should change uniforms for the class. After the strory, if Alice was seriously hurt, maybe we had to bring Alice to a hospital, or otherwise, Alice might just take a rest.\n",
        "\n",
        "8) Analyze the interesting event in the story, if any, and hypothesize that the interesting event would not occur if\n",
        "The interesting part was when Alice got fell down. She might trip over stone or injured somewhere. The event would not happen if Alice was perfectly healthy, slept well and there were no stone on the race.\n",
        "\n",
        "===\n",
        "Story 2: A man called his son and daughter the day before Christmas and said he and their mom were going to divorce. The son and daughter were hurry to go back home to stop their parents. The old man turned to his wife and said \"they're coming for Christmas now\"\n",
        "\n",
        "Analysis:\n",
        "1) Notable characters ,their roles and status\n",
        "A family of dad, mom, son and daughter. Their family status look very healthy.\n",
        "\n",
        "2) Notable believes, feelings and motivations of characters before, during and after the story\n",
        "Before the story, dad believed that their children would not come home in Christmas, so he might felt lonely and was motivated to trick their children to come home. At the end, dad believed that the children would come back home and might be happy. The children would believed the family was healthy before the story. In the story, they felt worried of the parents divorce, and that motivated them to back home. After the story, the children would initially got angry knowing that they were tricked, but were happy eventually to be back with the parents.\n",
        "\n",
        "3) Notable possessions of characters before, during and after the story\n",
        "Dad and children had phones, which could be either landline or mobile. All family members also belonged to each other in some sense.\n",
        "\n",
        "4) Basic usages and general knowledge on some notable possessions\n",
        "Average landline phone and mobile phone may cost around $100, but mobile phone price can be as high $2000. After the invention of smartphones by Steve Jobs, mobile phone can be used just like a small computer while landline phones would become obsolete.\n",
        "\n",
        "5) Probable locations, positions and daytime of characters before, during and after the story\n",
        "Before and in the story, the parents and children likely stayed in different cities or far enough that sometimes the children will not back home in Christmas. After the story, all of them would be at their home. The story could happen either day or night, but not on working hours.\n",
        "\n",
        "6) Guess story genre, and general information about location and time period\n",
        "This story genre should be a realistic fiction and comedy. The story was likely occured in either Europe or North America where most people are Chistian, so that Chirstmas day are very important. The story had to occur after phones were common to households and not in war-time which would be after 1980s.\n",
        "\n",
        "7) Probable events before and after the story\n",
        "Before the story, dad and mom would talk about possibilities that the children would not come home. So they thought about a fake divorce plan. After the story, children would be home in Chirstmas and the family should spend great time together.\n",
        "\n",
        "8) Analyze the interesting event in the story, if any, and hypothesize that the interesting event would not occur if\n",
        "The interesting part of the story was when dad happily spoke the truth that he tricked his children. This would turn out another way if the children would not care about the divorce and not back home no matter what.\n",
        "\n",
        "===\n",
        "Story 3: \"\"\""
      ],
      "execution_count": 2,
      "outputs": []
    },
    {
      "cell_type": "markdown",
      "metadata": {
        "id": "m4-3BviH3YJ2"
      },
      "source": [
        "This following is a list of stories in various genres"
      ]
    },
    {
      "cell_type": "code",
      "metadata": {
        "id": "cv7u7gQS3Xtd"
      },
      "source": [
        "main_stories = []\n",
        "\n",
        "# 0. Biography\n",
        "main_stories.append(\"On the contrary to his colleagues believes, Alain Bombard thought that people could stay alive in the sea by drinking sea water and eating small fish and plants from the sea. He set out in a small boat to cross the Atlantic Ocean. He was able to stay alive for 65 days before finishing the journey.\")\n",
        "\n",
        "# 1. Sci-fi\n",
        "main_stories.append(\"Alien race seeking refuge landed on earth on a small island in the south pacific. For a hundred years they've managed to keep the island cloaked and secret from our human population. But now they've exhausted the resources.\")\n",
        "\n",
        "# 2. Shopping\n",
        "main_stories.append(\"Ling went to a big-box store selling everything on the planet to buy his favorite tennis racket. But a staff named Xin said that the store would not sell the racket since it's defective. Ling complained that he has a ATP master to participate tomorrow and he needed the racket now.\")\n",
        "\n",
        "# 3. Mystery\n",
        "main_stories.append(\"As a new job for a prominent wealthy family, one of Chandra's first task is to water all of the house plants. While Chandra is watering the lilies, one of the plants starts talking to warn him of a dark family secret.\")\n",
        "\n",
        "# 4. Travel \n",
        "main_stories.append('It was very exciting to arrive the legendary island where \"Origin of Species\" was inspired from. However, as Giulia was not well-prepared, she did not even know where should he sleep tonight! At least, she had $1000 which hopefully was enough.')\n",
        "\n",
        "# 5. Shakespere\n",
        "main_stories.append(\"Being William Shakespeare’s apprentice would be great if he weren’t always stealing your ideas and claiming them as his own. So, James write a brilliant satiric play exposing him. He loves it and takes it to the stage.\")\n",
        "\n",
        "# 6. CoronaVirus\n",
        "main_stories.append(\"In 2020, Coronavirus surprises everybody by spreading everywhere, killing millions of people and turn off most world travels. Uğur Şahin told all staffs in his company to work extremely hard on their mRNA vaccine research before situations got worse.\")\n",
        "\n",
        "# 7. Comedy\n",
        "main_stories.append(\"Eriko never used a crystal punch set she got as a wedding gift. When Praew got married, Eriko wrapped the set as her gift. When Praew opened the gift, she looked curiously and told Eriko it was the same punch set she gave her Years ago.\")\n"
      ],
      "execution_count": 7,
      "outputs": []
    },
    {
      "cell_type": "markdown",
      "metadata": {
        "id": "tR2cesUu3dAD"
      },
      "source": [
        ""
      ]
    },
    {
      "cell_type": "code",
      "metadata": {
        "id": "TnBLJRSb3ceU"
      },
      "source": [
        "main_end_part = \"\"\"\n",
        "\n",
        "Analysis:\n",
        "1) Notable characters ,their roles and status\n",
        "\"\"\""
      ],
      "execution_count": 4,
      "outputs": []
    },
    {
      "cell_type": "code",
      "metadata": {
        "colab": {
          "base_uri": "https://localhost:8080/"
        },
        "id": "APtwqEeG3wKa",
        "outputId": "1663af5c-60e1-444e-f93c-d4f74d64038b"
      },
      "source": [
        "i = 0\n",
        "prompt = main_2shots + main_stories[i] + main_end_part\n",
        "print(prompt)"
      ],
      "execution_count": 8,
      "outputs": [
        {
          "output_type": "stream",
          "text": [
            "\n",
            "Reasoning on Common Sense Knowledge / Guessing the Story\n",
            "\n",
            "===\n",
            "Story 1: Alice and Elsa were running toward the finish line. However, as Alice somehow fell down to the ground, Elsa turned her back and went to help Alice. A teacher and friends also went to see what happen.\n",
            "\n",
            "Analysis:\n",
            "1) Notable characters, their roles and status\n",
            "Elsa and Alice are likely students and friends because there are teacher and friends in the context. By their names, they both should be girls. When they competed a race, they were competitors and runners. The teacher was probably their referee.\n",
            "\n",
            "2) Notable believes, feelings and motivations of characters before, during and after the story\n",
            "Before the story, both Elsa and Alice wanted to win the race and they should feel a bit excitement. In the story, when something happen to Alice, Elsa belived that Alice was injured. Elsa, and everybody else, felt care toward Alice. Then Elsa wanted to help Alice instead of going to win.\n",
            "\n",
            "3) Notable possessions of characters before, during and after the story\n",
            "Throughout the story, each runner should have a pair of running shoes, a running uniform. The teacher might have a whistle and perhaps a clock watch.\n",
            "\n",
            "4) Basic usages and general knowledge on some notable possessions\n",
            "People can use a pair of running shoes for running or just wear them casually.\n",
            "A pair of running shoes typically costs $10 to $100. Famous and expensive brands include Nike, Adidas, Asics and New Balance.\n",
            "\n",
            "5) Probable locations, positions and daytime of characters before, during and after the story\n",
            "They probably stayed at a sport stadium, on a running race at their school throughout the story. It should be at day in the story since the class is rarely at night. Before the race started, Elsa and Alice should stay at the same starting point while the teacher and friends stay near the race. Shortly after the story, Elsa, Alice and everybody should stay closely to investigate Alice's condition.\n",
            "\n",
            "6) Guess story genre, and general information about location and time period\n",
            "The story was quite ordinary, so it could be non-fantasy or realistic fiction, maybe a bit drama. Since it looks peaceful, it might locate in no-war country. The event might took place after 1900s where the sport has been popular, and more probable after 1950s where WW-II already ended.\n",
            "\n",
            "7) Probable events before and after the story\n",
            "Before the story, it may be the time for PE class for Elsa and Alice, so they should change uniforms for the class. After the strory, if Alice was seriously hurt, maybe we had to bring Alice to a hospital, or otherwise, Alice might just take a rest.\n",
            "\n",
            "8) Analyze the interesting event in the story, if any, and hypothesize that the interesting event would not occur if\n",
            "The interesting part was when Alice got fell down. She might trip over stone or injured somewhere. The event would not happen if Alice was perfectly healthy, slept well and there were no stone on the race.\n",
            "\n",
            "===\n",
            "Story 2: A man called his son and daughter the day before Christmas and said he and their mom were going to divorce. The son and daughter were hurry to go back home to stop their parents. The old man turned to his wife and said \"they're coming for Christmas now\"\n",
            "\n",
            "Analysis:\n",
            "1) Notable characters ,their roles and status\n",
            "A family of dad, mom, son and daughter. Their family status look very healthy.\n",
            "\n",
            "2) Notable believes, feelings and motivations of characters before, during and after the story\n",
            "Before the story, dad believed that their children would not come home in Christmas, so he might felt lonely and was motivated to trick their children to come home. At the end, dad believed that the children would come back home and might be happy. The children would believed the family was healthy before the story. In the story, they felt worried of the parents divorce, and that motivated them to back home. After the story, the children would initially got angry knowing that they were tricked, but were happy eventually to be back with the parents.\n",
            "\n",
            "3) Notable possessions of characters before, during and after the story\n",
            "Dad and children had phones, which could be either landline or mobile. All family members also belonged to each other in some sense.\n",
            "\n",
            "4) Basic usages and general knowledge on some notable possessions\n",
            "Average landline phone and mobile phone may cost around $100, but mobile phone price can be as high $2000. After the invention of smartphones by Steve Jobs, mobile phone can be used just like a small computer while landline phones would become obsolete.\n",
            "\n",
            "5) Probable locations, positions and daytime of characters before, during and after the story\n",
            "Before and in the story, the parents and children likely stayed in different cities or far enough that sometimes the children will not back home in Christmas. After the story, all of them would be at their home. The story could happen either day or night, but not on working hours.\n",
            "\n",
            "6) Guess story genre, and general information about location and time period\n",
            "This story genre should be a realistic fiction and comedy. The story was likely occured in either Europe or North America where most people are Chistian, so that Chirstmas day are very important. The story had to occur after phones were common to households and not in war-time which would be after 1980s.\n",
            "\n",
            "7) Probable events before and after the story\n",
            "Before the story, dad and mom would talk about possibilities that the children would not come home. So they thought about a fake divorce plan. After the story, children would be home in Chirstmas and the family should spend great time together.\n",
            "\n",
            "8) Analyze the interesting event in the story, if any, and hypothesize that the interesting event would not occur if\n",
            "The interesting part of the story was when dad happily spoke the truth that he tricked his children. This would turn out another way if the children would not care about the divorce and not back home no matter what.\n",
            "\n",
            "===\n",
            "Story 3: \n",
            "On the contrary to his colleagues believes, Alain Bombard thought that people could stay alive in the sea by drinking sea water and eating small fish and plants from the sea. He set out in a small boat to cross the Atlantic Ocean. He was able to stay alive for 65 days before finishing the journey.\n",
            "\n",
            "Analysis:\n",
            "1) Notable characters ,their roles and status\n",
            "\n"
          ],
          "name": "stdout"
        }
      ]
    },
    {
      "cell_type": "code",
      "metadata": {
        "id": "4qp-Syb531hs"
      },
      "source": [
        ""
      ],
      "execution_count": null,
      "outputs": []
    }
  ]
}