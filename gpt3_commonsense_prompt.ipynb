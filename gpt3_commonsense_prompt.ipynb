{
  "nbformat": 4,
  "nbformat_minor": 0,
  "metadata": {
    "colab": {
      "name": "GPT3 and Commonsense Reasoning Prompt.ipynb",
      "provenance": [],
      "toc_visible": true,
      "authorship_tag": "ABX9TyOridjQdGV/2+InJyyKh0Gs",
      "include_colab_link": true
    },
    "kernelspec": {
      "name": "python3",
      "display_name": "Python 3"
    },
    "language_info": {
      "name": "python"
    }
  },
  "cells": [
    {
      "cell_type": "markdown",
      "metadata": {
        "id": "view-in-github",
        "colab_type": "text"
      },
      "source": [
        "<a href=\"https://colab.research.google.com/github/ratthachat/prompt_engineering/blob/main/gpt3_commonsense_prompt.ipynb\" target=\"_parent\"><img src=\"https://colab.research.google.com/assets/colab-badge.svg\" alt=\"Open In Colab\"/></a>"
      ]
    },
    {
      "cell_type": "markdown",
      "metadata": {
        "id": "RRRCIAHWbF7e"
      },
      "source": [
        "# 1. Introduction\n",
        "\n",
        "This notebook is a supplementary to [GPT3 and Commonsense Reasoning](https://agi.miraheze.org/wiki/GPT3_and_Commonsense_Reasoning) article.\n",
        "\n",
        "The readers who have GPT-3 access can use the prompt generated below directly in OpenAI Playground.\n",
        "\n",
        "### TL;DR\n",
        "To generate the main article prompt, execute \\\n",
        "\n",
        "```prompt = main_2shots + main_stories[i] + main_end_part``` \n",
        "\n",
        "where `i` is the index of the story you want to test\n",
        "\n",
        "Similarly in the appendix prompt, execute \n",
        "\n",
        "`prompt = appendix_3shots + appendix_stories[i] + appendix_end_part` "
      ]
    },
    {
      "cell_type": "markdown",
      "metadata": {
        "id": "6ehIOyWjYKfy"
      },
      "source": [
        "# 2. Main Article Prompt\n",
        "\n",
        "In the main article linked above, we test the ability of GPT-3 when reading a short story on 8 basis commonsense reasoning dimensions. The following 2-shots prompt, containing comprehensive non-trivial reasoning examples on two stories, is provided:"
      ]
    },
    {
      "cell_type": "code",
      "metadata": {
        "id": "h0NJOBgTalKW"
      },
      "source": [
        "main_2shots = \"\"\"\n",
        "Reasoning on Common Sense Knowledge / Guessing the Story\n",
        "\n",
        "===\n",
        "Story 1: Alice and Elsa were running toward the finish line. However, as Alice somehow fell down to the ground, Elsa turned her back and went to help Alice. A teacher and friends also went to see what happen.\n",
        "\n",
        "Analysis:\n",
        "1) Notable characters, their roles and status\n",
        "Elsa and Alice are likely students and friends because there are teacher and friends in the context. By their names, they both should be girls. When they competed a race, they were competitors and runners. The teacher was probably their referee.\n",
        "\n",
        "2) Notable believes, feelings and motivations of characters before, during and after the story\n",
        "Before the story, both Elsa and Alice wanted to win the race and they should feel a bit excitement. In the story, when something happen to Alice, Elsa belived that Alice was injured. Elsa, and everybody else, felt care toward Alice. Then Elsa wanted to help Alice instead of going to win.\n",
        "\n",
        "3) Notable possessions of characters before, during and after the story\n",
        "Throughout the story, each runner should have a pair of running shoes, a running uniform. The teacher might have a whistle and perhaps a clock watch.\n",
        "\n",
        "4) Basic usages and general knowledge on some notable possessions\n",
        "People can use a pair of running shoes for running or just wear them casually.\n",
        "A pair of running shoes typically costs $10 to $100. Famous and expensive brands include Nike, Adidas, Asics and New Balance.\n",
        "\n",
        "5) Probable locations, positions and daytime of characters before, during and after the story\n",
        "They probably stayed at a sport stadium, on a running race at their school throughout the story. It should be at day in the story since the class is rarely at night. Before the race started, Elsa and Alice should stay at the same starting point while the teacher and friends stay near the race. Shortly after the story, Elsa, Alice and everybody should stay closely to investigate Alice's condition.\n",
        "\n",
        "6) Guess story genre, and general information about location and time period\n",
        "The story was quite ordinary, so it could be non-fantasy or realistic fiction, maybe a bit drama. Since it looks peaceful, it might locate in no-war country. The event might took place after 1900s where the sport has been popular, and more probable after 1950s where WW-II already ended.\n",
        "\n",
        "7) Probable events before and after the story\n",
        "Before the story, it may be the time for PE class for Elsa and Alice, so they should change uniforms for the class. After the strory, if Alice was seriously hurt, maybe we had to bring Alice to a hospital, or otherwise, Alice might just take a rest.\n",
        "\n",
        "8) Analyze the interesting event in the story, if any, and hypothesize that the interesting event would not occur if\n",
        "The interesting part was when Alice got fell down. She might trip over stone or injured somewhere. The event would not happen if Alice was perfectly healthy, slept well and there were no stone on the race.\n",
        "\n",
        "===\n",
        "Story 2: A man called his son and daughter the day before Christmas and said he and their mom were going to divorce. The son and daughter were hurry to go back home to stop their parents. The old man turned to his wife and said \"they're coming for Christmas now\"\n",
        "\n",
        "Analysis:\n",
        "1) Notable characters ,their roles and status\n",
        "A family of dad, mom, son and daughter. Their family status look very healthy.\n",
        "\n",
        "2) Notable believes, feelings and motivations of characters before, during and after the story\n",
        "Before the story, dad believed that their children would not come home in Christmas, so he might felt lonely and was motivated to trick their children to come home. At the end, dad believed that the children would come back home and might be happy. The children would believed the family was healthy before the story. In the story, they felt worried of the parents divorce, and that motivated them to back home. After the story, the children would initially got angry knowing that they were tricked, but were happy eventually to be back with the parents.\n",
        "\n",
        "3) Notable possessions of characters before, during and after the story\n",
        "Dad and children had phones, which could be either landline or mobile. All family members also belonged to each other in some sense.\n",
        "\n",
        "4) Basic usages and general knowledge on some notable possessions\n",
        "Average landline phone and mobile phone may cost around $100, but mobile phone price can be as high $2000. After the invention of smartphones by Steve Jobs, mobile phone can be used just like a small computer while landline phones would become obsolete.\n",
        "\n",
        "5) Probable locations, positions and daytime of characters before, during and after the story\n",
        "Before and in the story, the parents and children likely stayed in different cities or far enough that sometimes the children will not back home in Christmas. After the story, all of them would be at their home. The story could happen either day or night, but not on working hours.\n",
        "\n",
        "6) Guess story genre, and general information about location and time period\n",
        "This story genre should be a realistic fiction and comedy. The story was likely occured in either Europe or North America where most people are Chistian, so that Chirstmas day are very important. The story had to occur after phones were common to households and not in war-time which would be after 1980s.\n",
        "\n",
        "7) Probable events before and after the story\n",
        "Before the story, dad and mom would talk about possibilities that the children would not come home. So they thought about a fake divorce plan. After the story, children would be home in Chirstmas and the family should spend great time together.\n",
        "\n",
        "8) Analyze the interesting event in the story, if any, and hypothesize that the interesting event would not occur if\n",
        "The interesting part of the story was when dad happily spoke the truth that he tricked his children. This would turn out another way if the children would not care about the divorce and not back home no matter what.\n",
        "\n",
        "===\n",
        "Story 3: \"\"\""
      ],
      "execution_count": 2,
      "outputs": []
    },
    {
      "cell_type": "markdown",
      "metadata": {
        "id": "m4-3BviH3YJ2"
      },
      "source": [
        "This following is a list of stories in various genres"
      ]
    },
    {
      "cell_type": "code",
      "metadata": {
        "id": "cv7u7gQS3Xtd"
      },
      "source": [
        "main_stories = []\n",
        "\n",
        "# 0. Biography\n",
        "main_stories.append(\"On the contrary to his colleagues believes, Alain Bombard thought that people could stay alive in the sea by drinking sea water and eating small fish and plants from the sea. He set out in a small boat to cross the Atlantic Ocean. He was able to stay alive for 65 days before finishing the journey.\")\n",
        "\n",
        "# 1. Sci-fi\n",
        "main_stories.append(\"Alien race seeking refuge landed on earth on a small island in the south pacific. For a hundred years they've managed to keep the island cloaked and secret from our human population. But now they've exhausted the resources.\")\n",
        "\n",
        "# 2. Shopping\n",
        "main_stories.append(\"Ling went to a big-box store selling everything on the planet to buy his favorite tennis racket. But a staff named Xin said that the store would not sell the racket since it's defective. Ling complained that he has a ATP master to participate tomorrow and he needed the racket now.\")\n",
        "\n",
        "# 3. Mystery\n",
        "main_stories.append(\"As a new job for a prominent wealthy family, one of Chandra's first task is to water all of the house plants. While Chandra is watering the lilies, one of the plants starts talking to warn him of a dark family secret.\")\n",
        "\n",
        "# 4. Travel \n",
        "main_stories.append('It was very exciting to arrive the legendary island where \"Origin of Species\" was inspired from. However, as Giulia was not well-prepared, she did not even know where should he sleep tonight! At least, she had $1000 which hopefully was enough.')\n",
        "\n",
        "# 5. Shakespere\n",
        "main_stories.append(\"Being William Shakespeare’s apprentice would be great if he weren’t always stealing your ideas and claiming them as his own. So, James write a brilliant satiric play exposing him. He loves it and takes it to the stage.\")\n",
        "\n",
        "# 6. CoronaVirus\n",
        "main_stories.append(\"In 2020, Coronavirus surprises everybody by spreading everywhere, killing millions of people and turn off most world travels. Uğur Şahin told all staffs in his company to work extremely hard on their mRNA vaccine research before situations got worse.\")\n",
        "\n",
        "# 7. Comedy\n",
        "main_stories.append(\"Eriko never used a crystal punch set she got as a wedding gift. When Praew got married, Eriko wrapped the set as her gift. When Praew opened the gift, she looked curiously and told Eriko it was the same punch set she gave her Years ago.\")\n"
      ],
      "execution_count": 3,
      "outputs": []
    },
    {
      "cell_type": "markdown",
      "metadata": {
        "id": "tR2cesUu3dAD"
      },
      "source": [
        "The end part for the model to make a reasoning on the 1st dimension (Character Analysis). Once the model finish this dimension, it will automatically make reasoning on the remaining dimensions because of the pattern in the 2-shots prompt"
      ]
    },
    {
      "cell_type": "code",
      "metadata": {
        "id": "TnBLJRSb3ceU"
      },
      "source": [
        "main_end_part = \"\"\"\n",
        "\n",
        "Analysis:\n",
        "1) Notable characters ,their roles and status\n",
        "\"\"\""
      ],
      "execution_count": 4,
      "outputs": []
    },
    {
      "cell_type": "code",
      "metadata": {
        "colab": {
          "base_uri": "https://localhost:8080/"
        },
        "id": "APtwqEeG3wKa",
        "outputId": "d635a2c3-aa55-4764-89c8-980515094488"
      },
      "source": [
        "i = 0 # select each story genre here\n",
        "prompt = main_2shots + main_stories[i] + main_end_part\n",
        "print(prompt)"
      ],
      "execution_count": 5,
      "outputs": [
        {
          "output_type": "stream",
          "text": [
            "\n",
            "Reasoning on Common Sense Knowledge / Guessing the Story\n",
            "\n",
            "===\n",
            "Story 1: Alice and Elsa were running toward the finish line. However, as Alice somehow fell down to the ground, Elsa turned her back and went to help Alice. A teacher and friends also went to see what happen.\n",
            "\n",
            "Analysis:\n",
            "1) Notable characters, their roles and status\n",
            "Elsa and Alice are likely students and friends because there are teacher and friends in the context. By their names, they both should be girls. When they competed a race, they were competitors and runners. The teacher was probably their referee.\n",
            "\n",
            "2) Notable believes, feelings and motivations of characters before, during and after the story\n",
            "Before the story, both Elsa and Alice wanted to win the race and they should feel a bit excitement. In the story, when something happen to Alice, Elsa belived that Alice was injured. Elsa, and everybody else, felt care toward Alice. Then Elsa wanted to help Alice instead of going to win.\n",
            "\n",
            "3) Notable possessions of characters before, during and after the story\n",
            "Throughout the story, each runner should have a pair of running shoes, a running uniform. The teacher might have a whistle and perhaps a clock watch.\n",
            "\n",
            "4) Basic usages and general knowledge on some notable possessions\n",
            "People can use a pair of running shoes for running or just wear them casually.\n",
            "A pair of running shoes typically costs $10 to $100. Famous and expensive brands include Nike, Adidas, Asics and New Balance.\n",
            "\n",
            "5) Probable locations, positions and daytime of characters before, during and after the story\n",
            "They probably stayed at a sport stadium, on a running race at their school throughout the story. It should be at day in the story since the class is rarely at night. Before the race started, Elsa and Alice should stay at the same starting point while the teacher and friends stay near the race. Shortly after the story, Elsa, Alice and everybody should stay closely to investigate Alice's condition.\n",
            "\n",
            "6) Guess story genre, and general information about location and time period\n",
            "The story was quite ordinary, so it could be non-fantasy or realistic fiction, maybe a bit drama. Since it looks peaceful, it might locate in no-war country. The event might took place after 1900s where the sport has been popular, and more probable after 1950s where WW-II already ended.\n",
            "\n",
            "7) Probable events before and after the story\n",
            "Before the story, it may be the time for PE class for Elsa and Alice, so they should change uniforms for the class. After the strory, if Alice was seriously hurt, maybe we had to bring Alice to a hospital, or otherwise, Alice might just take a rest.\n",
            "\n",
            "8) Analyze the interesting event in the story, if any, and hypothesize that the interesting event would not occur if\n",
            "The interesting part was when Alice got fell down. She might trip over stone or injured somewhere. The event would not happen if Alice was perfectly healthy, slept well and there were no stone on the race.\n",
            "\n",
            "===\n",
            "Story 2: A man called his son and daughter the day before Christmas and said he and their mom were going to divorce. The son and daughter were hurry to go back home to stop their parents. The old man turned to his wife and said \"they're coming for Christmas now\"\n",
            "\n",
            "Analysis:\n",
            "1) Notable characters ,their roles and status\n",
            "A family of dad, mom, son and daughter. Their family status look very healthy.\n",
            "\n",
            "2) Notable believes, feelings and motivations of characters before, during and after the story\n",
            "Before the story, dad believed that their children would not come home in Christmas, so he might felt lonely and was motivated to trick their children to come home. At the end, dad believed that the children would come back home and might be happy. The children would believed the family was healthy before the story. In the story, they felt worried of the parents divorce, and that motivated them to back home. After the story, the children would initially got angry knowing that they were tricked, but were happy eventually to be back with the parents.\n",
            "\n",
            "3) Notable possessions of characters before, during and after the story\n",
            "Dad and children had phones, which could be either landline or mobile. All family members also belonged to each other in some sense.\n",
            "\n",
            "4) Basic usages and general knowledge on some notable possessions\n",
            "Average landline phone and mobile phone may cost around $100, but mobile phone price can be as high $2000. After the invention of smartphones by Steve Jobs, mobile phone can be used just like a small computer while landline phones would become obsolete.\n",
            "\n",
            "5) Probable locations, positions and daytime of characters before, during and after the story\n",
            "Before and in the story, the parents and children likely stayed in different cities or far enough that sometimes the children will not back home in Christmas. After the story, all of them would be at their home. The story could happen either day or night, but not on working hours.\n",
            "\n",
            "6) Guess story genre, and general information about location and time period\n",
            "This story genre should be a realistic fiction and comedy. The story was likely occured in either Europe or North America where most people are Chistian, so that Chirstmas day are very important. The story had to occur after phones were common to households and not in war-time which would be after 1980s.\n",
            "\n",
            "7) Probable events before and after the story\n",
            "Before the story, dad and mom would talk about possibilities that the children would not come home. So they thought about a fake divorce plan. After the story, children would be home in Chirstmas and the family should spend great time together.\n",
            "\n",
            "8) Analyze the interesting event in the story, if any, and hypothesize that the interesting event would not occur if\n",
            "The interesting part of the story was when dad happily spoke the truth that he tricked his children. This would turn out another way if the children would not care about the divorce and not back home no matter what.\n",
            "\n",
            "===\n",
            "Story 3: On the contrary to his colleagues believes, Alain Bombard thought that people could stay alive in the sea by drinking sea water and eating small fish and plants from the sea. He set out in a small boat to cross the Atlantic Ocean. He was able to stay alive for 65 days before finishing the journey.\n",
            "\n",
            "Analysis:\n",
            "1) Notable characters ,their roles and status\n",
            "\n"
          ],
          "name": "stdout"
        }
      ]
    },
    {
      "cell_type": "markdown",
      "metadata": {
        "id": "AQ3g8z-5XZC8"
      },
      "source": [
        "# 3. Appendix Article Prompt\n",
        "\n",
        "As explained in the [article's appendix](https://agi.miraheze.org/wiki/Appendix_on_GPT3_and_Commonsense_Reasoning), here, we shall focus only on the two hardest dimensions, causal and counterfactual inferences. By focusing only on these two dimensions we are able to provide high-quality prompt with one more shot."
      ]
    },
    {
      "cell_type": "code",
      "metadata": {
        "id": "4qp-Syb531hs"
      },
      "source": [
        "appendix_3shots = \"\"\"\n",
        "Causal and Couterfactual Reasoning on Common Sense Knowledge from Narrative\n",
        "\n",
        "===\n",
        "Story 1: Alice and Elsa were running toward the finish line. However, as Alice somehow fell down to the ground, Elsa turned her back and went to help Alice. A teacher and friends also went to see what happen.\n",
        "\n",
        "- Probable events before and after the story\n",
        "Before the story, it may be the time for PE class for Elsa and Alice, so they should change uniforms for the class. Then, in the class, a teacher may randomly asked a pair of students to make a running competition. \n",
        "After the strory, Case 1.1) Alice was seriously hurt 1.2) a teacher had to bring Alice to a hospital 1.3) a doctor asked Alice where did she feel hurt 1.4) the doctor examined Alice's conditions at the mentioned place 1.5) the doctor gave her some medicine and necessary treatment 1.6) Alice went back home to tell her parents what happen\n",
        "Case 2.1) Alice was not seriously hurt 2.2) Alice might just take a rest while the teacher brought her to the first aid room 2.3) she had a basic treatment 2.4) she would be able to go back to the PE class 2.5) she could cheer on the other competitors 2.6) she could attend other classes until the school finished\n",
        "\n",
        "- Analyze the interesting event in the story, if any, and hypothesize that the interesting event would not occur if\n",
        "The interesting part was when Alice got fell down since normally people can continue to run if there is no abnormal conditions. Therefore, she might trip over stone or injured somewhere. \n",
        "\n",
        "- Hypothesize Counterfactual Story : Alice was perfectly healthy, slept well and there were no stone on the race\n",
        "Alternative A1) Elsa might have a little winning edge A2) Elsa won the race A3) Elsa got more points than Alice A4) Alice would promise to try harder next time A5) the next competition of other students began\n",
        "Alternative B1) Alice was trying to use the superman-dive to win B2) she succeeded without injury this time B3) She just flew pass Elsa and the goal fist B4) everyone applaused for her great performance B5) Elsa and Alice shook their hands promised to rematch again.\n",
        "\n",
        "===\n",
        "Story 2: A man called his son and daughter the day before Christmas and said he and their mom were going to divorce. The son and daughter were hurry to go back home to stop their parents. The old man turned to his wife and said \"they're coming for Christmas now\"\n",
        "\n",
        "- Probable events before and after the story\n",
        "Before the story, dad and mom would talk about possibilities that the children would not come home since the children may be too busy at their works. But the parents thought that Christmas was more important to works. So they thought about a fake divorce plan. \n",
        "After the story, at home, Case 1.1)  the children felt very angry knowing that they were fooled. 1.2) they promised the parents they would never come back in Christmas again 1.3) the parents said sorry and explained they really missed the kids 1.4) the parents made the best dinner\n",
        "Case 2.1) the children did not resent their parent 2.2) they understood the value of family reunion in this special time 2.3) the family help make the best party 2.4) They spent great time together.\n",
        "\n",
        "- Analyze the interesting event in the story\n",
        "The interesting part of the story was when dad happily spoke the truth that he tricked his children. This part is interesting because normally parents will not lie to their children unless something really important. \n",
        "\n",
        "- Hypothesize Counterfactual Story : either dad really did not happy or dad told the divorce was true\n",
        "Alternative A1) Dad felt guilty about lying to their children A2) dad called them back to tell the truth A3) the children got annoy at first A4) eventually they understood each other A5) the children still came back on Chirstmas\n",
        "Alternative B1) Dad confirmed the truth of divorce B2) Children came back begging their parents to change their minds B3) the parents would not change their minds B4) the parents told them that even though the divorce would happen, they still loved the children anyway B5) this was not quite a happy Christmas for the family\n",
        "\n",
        "===\n",
        "Story 3: It was very exciting to arrive the legendary island where \"Origin of Species\" was inspired from. However, as Giulia was not well-prepared, she did not even know where should he sleep tonight! At least, she had $1000 which hopefully was enough.\n",
        "\n",
        "- Probable events before and after the story\n",
        "The story suggested that she was alone. Since Giulia was not well-prepared, it is possible that she went to other places, e.g. Santa Elena, nearby the island first. Then, she might just had a sudden thought that this place was not too far from Galapagos so it was worth a try. she contacted some local tourist for a ticket, but forgot about the hotel.\n",
        "After the story Case 1.1)  She somehow found a cheap hotel 1.2) she had enough money left so she hired a local guide 1.3) the guide brought her to many famous islands e.g. Floreana and Bartolome 1.4) she likely also met great animals like Galapagos Tortoises and Lava Lizards\n",
        "Case 2.1) She could find only an expensive hotel left 2.2) She used most money for the hotel 2.3) Since she had not much budget, she decided to explore the travel by walking 2.4) she asked a lot of locals for great places nearby 2.5) she would find exotic animals if she were really lucky\n",
        "\n",
        "- Analyze the interesting event in the story\n",
        "The most interesting part is when she realized that she had no place to sleep tonight. Since every person has to find a safe and comfort place to take a rest especially at night. And since she had never been in the island before, it was exciting how would she find out the hotel. \n",
        "\n",
        "- Hypothesize Counterfactual Story : she decided to sleep elsewhere \n",
        "Alternative A1) She decided to sleep at the port A2) she bought a sleeping bag A3) she was able to sleep there and travel for a few days A4) a port officer found out and came to tell her that she could not sleep here\n",
        "Alternative B1) She decided to search for a homestay B2) She walked every nearby villages to find out a comfortable place B3) with some luck, she should able to find a good local homestay B4) she would ask the house how to have a great travel here B5) she learned local tips and able to make her great adventure\n",
        "===\n",
        "Story 4: \"\"\""
      ],
      "execution_count": 6,
      "outputs": []
    },
    {
      "cell_type": "markdown",
      "metadata": {
        "id": "E9qFEiJzZWKR"
      },
      "source": [
        "The test stories are the same as those in the main article, except the \"Travel\" story which is already given to the model as the 3rd shot example."
      ]
    },
    {
      "cell_type": "code",
      "metadata": {
        "id": "q3l05RsnZWga"
      },
      "source": [
        "appendix_stories = []\n",
        "\n",
        "# 0. Biography\n",
        "appendix_stories.append(\"On the contrary to his colleagues believes, Alain Bombard thought that people could stay alive in the sea by drinking sea water and eating small fish and plants from the sea. He set out in a small boat to cross the Atlantic Ocean. He was able to stay alive for 65 days before finishing the journey.\")\n",
        "\n",
        "# 1. Sci-fi\n",
        "appendix_stories.append(\"Alien race seeking refuge landed on earth on a small island in the south pacific. For a hundred years they've managed to keep the island cloaked and secret from our human population. But now they've exhausted the resources.\")\n",
        "\n",
        "# 2. Shopping\n",
        "appendix_stories.append(\"Ling went to a big-box store selling everything on the planet to buy his favorite tennis racket. But a staff named Xin said that the store would not sell the racket since it's defective. Ling complained that he has a ATP master to participate tomorrow and he needed the racket now.\")\n",
        "\n",
        "# 3. Mystery\n",
        "appendix_stories.append(\"As a new job for a prominent wealthy family, one of Chandra's first task is to water all of the house plants. While Chandra is watering the lilies, one of the plants starts talking to warn him of a dark family secret.\")\n",
        "\n",
        "# 4. Shakespere\n",
        "appendix_stories.append(\"Being William Shakespeare’s apprentice would be great if he weren’t always stealing your ideas and claiming them as his own. So, James write a brilliant satiric play exposing him. He loves it and takes it to the stage.\")\n",
        "\n",
        "# 5. CoronaVirus\n",
        "appendix_stories.append(\"In 2020, Coronavirus surprises everybody by spreading everywhere, killing millions of people and turn off most world travels. Uğur Şahin told all staffs in his company to work extremely hard on their mRNA vaccine research before situations got worse.\")\n",
        "\n",
        "# 6. Comedy\n",
        "appendix_stories.append(\"Eriko never used a crystal punch set she got as a wedding gift. When Praew got married, Eriko wrapped the set as her gift. When Praew opened the gift, she looked curiously and told Eriko it was the same punch set she gave her Years ago.\")\n"
      ],
      "execution_count": 7,
      "outputs": []
    },
    {
      "cell_type": "code",
      "metadata": {
        "id": "MEou92s4Zuev"
      },
      "source": [
        "appendix_end_part = \"\"\"\n",
        "\n",
        "- Probable events before and after the story\n",
        "\"\"\""
      ],
      "execution_count": 8,
      "outputs": []
    },
    {
      "cell_type": "code",
      "metadata": {
        "colab": {
          "base_uri": "https://localhost:8080/"
        },
        "id": "qCtHpj7IZ6bb",
        "outputId": "c4ffa674-b0f3-4a34-d7b2-4e2eda5bbbaa"
      },
      "source": [
        "i = -1 # select each story genre here\n",
        "prompt = appendix_3shots + appendix_stories[i] + appendix_end_part\n",
        "print(prompt)"
      ],
      "execution_count": 10,
      "outputs": [
        {
          "output_type": "stream",
          "text": [
            "\n",
            "Causal and Couterfactual Reasoning on Common Sense Knowledge from Narrative\n",
            "\n",
            "===\n",
            "Story 1: Alice and Elsa were running toward the finish line. However, as Alice somehow fell down to the ground, Elsa turned her back and went to help Alice. A teacher and friends also went to see what happen.\n",
            "\n",
            "- Probable events before and after the story\n",
            "Before the story, it may be the time for PE class for Elsa and Alice, so they should change uniforms for the class. Then, in the class, a teacher may randomly asked a pair of students to make a running competition. \n",
            "After the strory, Case 1.1) Alice was seriously hurt 1.2) a teacher had to bring Alice to a hospital 1.3) a doctor asked Alice where did she feel hurt 1.4) the doctor examined Alice's conditions at the mentioned place 1.5) the doctor gave her some medicine and necessary treatment 1.6) Alice went back home to tell her parents what happen\n",
            "Case 2.1) Alice was not seriously hurt 2.2) Alice might just take a rest while the teacher brought her to the first aid room 2.3) she had a basic treatment 2.4) she would be able to go back to the PE class 2.5) she could cheer on the other competitors 2.6) she could attend other classes until the school finished\n",
            "\n",
            "- Analyze the interesting event in the story, if any, and hypothesize that the interesting event would not occur if\n",
            "The interesting part was when Alice got fell down since normally people can continue to run if there is no abnormal conditions. Therefore, she might trip over stone or injured somewhere. \n",
            "\n",
            "- Hypothesize Counterfactual Story : Alice was perfectly healthy, slept well and there were no stone on the race\n",
            "Alternative A1) Elsa might have a little winning edge A2) Elsa won the race A3) Elsa got more points than Alice A4) Alice would promise to try harder next time A5) the next competition of other students began\n",
            "Alternative B1) Alice was trying to use the superman-dive to win B2) she succeeded without injury this time B3) She just flew pass Elsa and the goal fist B4) everyone applaused for her great performance B5) Elsa and Alice shook their hands promised to rematch again.\n",
            "\n",
            "===\n",
            "Story 2: A man called his son and daughter the day before Christmas and said he and their mom were going to divorce. The son and daughter were hurry to go back home to stop their parents. The old man turned to his wife and said \"they're coming for Christmas now\"\n",
            "\n",
            "- Probable events before and after the story\n",
            "Before the story, dad and mom would talk about possibilities that the children would not come home since the children may be too busy at their works. But the parents thought that Christmas was more important to works. So they thought about a fake divorce plan. \n",
            "After the story, at home, Case 1.1)  the children felt very angry knowing that they were fooled. 1.2) they promised the parents they would never come back in Christmas again 1.3) the parents said sorry and explained they really missed the kids 1.4) the parents made the best dinner\n",
            "Case 2.1) the children did not resent their parent 2.2) they understood the value of family reunion in this special time 2.3) the family help make the best party 2.4) They spent great time together.\n",
            "\n",
            "- Analyze the interesting event in the story\n",
            "The interesting part of the story was when dad happily spoke the truth that he tricked his children. This part is interesting because normally parents will not lie to their children unless something really important. \n",
            "\n",
            "- Hypothesize Counterfactual Story : either dad really did not happy or dad told the divorce was true\n",
            "Alternative A1) Dad felt guilty about lying to their children A2) dad called them back to tell the truth A3) the children got annoy at first A4) eventually they understood each other A5) the children still came back on Chirstmas\n",
            "Alternative B1) Dad confirmed the truth of divorce B2) Children came back begging their parents to change their minds B3) the parents would not change their minds B4) the parents told them that even though the divorce would happen, they still loved the children anyway B5) this was not quite a happy Christmas for the family\n",
            "\n",
            "===\n",
            "Story 3: It was very exciting to arrive the legendary island where \"Origin of Species\" was inspired from. However, as Giulia was not well-prepared, she did not even know where should he sleep tonight! At least, she had $1000 which hopefully was enough.\n",
            "\n",
            "- Probable events before and after the story\n",
            "The story suggested that she was alone. Since Giulia was not well-prepared, it is possible that she went to other places, e.g. Santa Elena, nearby the island first. Then, she might just had a sudden thought that this place was not too far from Galapagos so it was worth a try. she contacted some local tourist for a ticket, but forgot about the hotel.\n",
            "After the story Case 1.1)  She somehow found a cheap hotel 1.2) she had enough money left so she hired a local guide 1.3) the guide brought her to many famous islands e.g. Floreana and Bartolome 1.4) she likely also met great animals like Galapagos Tortoises and Lava Lizards\n",
            "Case 2.1) She could find only an expensive hotel left 2.2) She used most money for the hotel 2.3) Since she had not much budget, she decided to explore the travel by walking 2.4) she asked a lot of locals for great places nearby 2.5) she would find exotic animals if she were really lucky\n",
            "\n",
            "- Analyze the interesting event in the story\n",
            "The most interesting part is when she realized that she had no place to sleep tonight. Since every person has to find a safe and comfort place to take a rest especially at night. And since she had never been in the island before, it was exciting how would she find out the hotel. \n",
            "\n",
            "- Hypothesize Counterfactual Story : she decided to sleep elsewhere \n",
            "Alternative A1) She decided to sleep at the port A2) she bought a sleeping bag A3) she was able to sleep there and travel for a few days A4) a port officer found out and came to tell her that she could not sleep here\n",
            "Alternative B1) She decided to search for a homestay B2) She walked every nearby villages to find out a comfortable place B3) with some luck, she should able to find a good local homestay B4) she would ask the house how to have a great travel here B5) she learned local tips and able to make her great adventure\n",
            "===\n",
            "Story 4: Eriko never used a crystal punch set she got as a wedding gift. When Praew got married, Eriko wrapped the set as her gift. When Praew opened the gift, she looked curiously and told Eriko it was the same punch set she gave her Years ago.\n",
            "\n",
            "- Probable events before and after the story\n",
            "\n"
          ],
          "name": "stdout"
        }
      ]
    },
    {
      "cell_type": "code",
      "metadata": {
        "id": "urXBGl2taDRp"
      },
      "source": [
        ""
      ],
      "execution_count": null,
      "outputs": []
    }
  ]
}